{
 "cells": [
  {
   "cell_type": "code",
   "execution_count": 27,
   "metadata": {},
   "outputs": [
    {
     "name": "stdout",
     "output_type": "stream",
     "text": [
      "Reporte de combustible:\n",
      "    Combustible promedio: 35.0%\n",
      "    Gasolina: 30%\n",
      "    Hidrosina: 50%\n",
      "    Keroseno: 25% \n",
      "    \n",
      "el promedio de los tanques de combustible es: 35.0\n"
     ]
    }
   ],
   "source": [
    "def reporte(gasolina, hidrosina, keroseno):\n",
    "    promedio_combs = (gasolina + hidrosina+ keroseno)/3\n",
    "    return f\"\"\"Reporte de combustible:\n",
    "    Combustible promedio: {promedio_combs}%\n",
    "    Gasolina: {gasolina}%\n",
    "    Hidrosina: {hidrosina}%\n",
    "    Keroseno: {keroseno}% \n",
    "    \"\"\"\n",
    "\n",
    "print(reporte(30, 50, 25))\n",
    "\n",
    "def promedio(datos):\n",
    "    total = sum(datos)\n",
    "    objetos = len(datos)\n",
    "    prom = total / objetos\n",
    "    return prom\n",
    "promedio([30, 50, 25]) \n",
    "\n",
    "print('el promedio de los tanques de combustible es:',promedio([30, 50, 25]))"
   ]
  },
  {
   "cell_type": "code",
   "execution_count": 28,
   "metadata": {},
   "outputs": [
    {
     "name": "stdout",
     "output_type": "stream",
     "text": [
      "Reporte de combustible:\n",
      "    Combustible promedio: 50.0%\n",
      "    Gasolina: 60%\n",
      "    Hidrosina: 50%\n",
      "    Keroseno: 40% \n",
      "    \n"
     ]
    }
   ],
   "source": [
    "def reporte(gasolina, hidrosina, keroseno):\n",
    "    return f\"\"\"Reporte de combustible:\n",
    "    Combustible promedio: {promedio([gasolina,hidrosina,keroseno])}%\n",
    "    Gasolina: {gasolina}%\n",
    "    Hidrosina: {hidrosina}%\n",
    "    Keroseno: {keroseno}% \n",
    "    \"\"\"\n",
    "\n",
    "print(reporte(60, 50, 40))\n"
   ]
  },
  {
   "cell_type": "markdown",
   "metadata": {},
   "source": [
    "# Ejercicio: Uso de funciones en Python"
   ]
  }
 ],
 "metadata": {
  "interpreter": {
   "hash": "ee33a262b3ada8c9ed0160da243ed2447cdfa224c81993f3232d3bed3232e4d0"
  },
  "kernelspec": {
   "display_name": "Python 3.10.2 64-bit",
   "language": "python",
   "name": "python3"
  },
  "language_info": {
   "codemirror_mode": {
    "name": "ipython",
    "version": 3
   },
   "file_extension": ".py",
   "mimetype": "text/x-python",
   "name": "python",
   "nbconvert_exporter": "python",
   "pygments_lexer": "ipython3",
   "version": "3.10.2"
  },
  "orig_nbformat": 4
 },
 "nbformat": 4,
 "nbformat_minor": 2
}
