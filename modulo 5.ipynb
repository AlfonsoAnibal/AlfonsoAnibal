{
 "cells": [
  {
   "cell_type": "markdown",
   "metadata": {},
   "source": [
    "# Ejercicio1 - Utilizar operadores aritméticos\n"
   ]
  },
  {
   "cell_type": "code",
   "execution_count": 13,
   "metadata": {},
   "outputs": [
    {
     "name": "stdout",
     "output_type": "stream",
     "text": [
      "la distancia entre la tierra y jupiter en km es 628949330\n",
      "la distancia entre la tierra y jupiter en millas es 390577533.93\n"
     ]
    }
   ],
   "source": [
    "d_tierra = 149597870\n",
    "d_jupiter = 778547200\n",
    "\n",
    "print('la distancia entre la tierra y jupiter en km es', d_jupiter - d_tierra)\n",
    "print('la distancia entre la tierra y jupiter en millas es', 0.621*(d_jupiter - d_tierra) )\n"
   ]
  },
  {
   "cell_type": "markdown",
   "metadata": {},
   "source": [
    "# Ejercicio 2: convierte cadenas en números y usa valores absolutos"
   ]
  },
  {
   "cell_type": "code",
   "execution_count": 14,
   "metadata": {},
   "outputs": [],
   "source": [
    "distancia_s_p1 = input('Introduce la distancia entre el primer planeta y el sol en km')\n",
    "distancia_s_p2 = input('Introduce la distancia entre el segundo planeta y el sol en km')\n"
   ]
  },
  {
   "cell_type": "code",
   "execution_count": 15,
   "metadata": {},
   "outputs": [],
   "source": [
    "distancia_s_p1 = int(distancia_s_p1)\n",
    "distancia_s_p2 = int( distancia_s_p2)"
   ]
  },
  {
   "cell_type": "code",
   "execution_count": 16,
   "metadata": {},
   "outputs": [
    {
     "name": "stdout",
     "output_type": "stream",
     "text": [
      "la diferencia entre la dsitancia de los dos planetas y el sol en km es 1375600000\n"
     ]
    }
   ],
   "source": [
    "print('la diferencia entre la distancia de los dos planetas y el sol en km es', abs(distancia_s_p2 - distancia_s_p1))\n",
    "\n"
   ]
  },
  {
   "cell_type": "code",
   "execution_count": 17,
   "metadata": {},
   "outputs": [
    {
     "name": "stdout",
     "output_type": "stream",
     "text": [
      "la diferencia de las distancias en millas es  854247600.0\n"
     ]
    }
   ],
   "source": [
    "print('la diferencia de las distancias en millas es ', 0.621*(abs(distancia_s_p2 - distancia_s_p1)))"
   ]
  }
 ],
 "metadata": {
  "interpreter": {
   "hash": "ee33a262b3ada8c9ed0160da243ed2447cdfa224c81993f3232d3bed3232e4d0"
  },
  "kernelspec": {
   "display_name": "Python 3.10.2 64-bit",
   "language": "python",
   "name": "python3"
  },
  "language_info": {
   "codemirror_mode": {
    "name": "ipython",
    "version": 3
   },
   "file_extension": ".py",
   "mimetype": "text/x-python",
   "name": "python",
   "nbconvert_exporter": "python",
   "pygments_lexer": "ipython3",
   "version": "3.10.2"
  },
  "orig_nbformat": 4
 },
 "nbformat": 4,
 "nbformat_minor": 2
}
