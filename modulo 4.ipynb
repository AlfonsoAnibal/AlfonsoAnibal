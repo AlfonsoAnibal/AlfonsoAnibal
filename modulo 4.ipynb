{
 "cells": [
  {
   "cell_type": "code",
   "execution_count": null,
   "metadata": {},
   "outputs": [],
   "source": []
  },
  {
   "cell_type": "code",
   "execution_count": 1,
   "metadata": {},
   "outputs": [
    {
     "data": {
      "text/plain": [
       "['Interesting',\n",
       " 'facts',\n",
       " 'about',\n",
       " 'the',\n",
       " 'Moon.',\n",
       " 'The',\n",
       " 'Moon',\n",
       " 'is',\n",
       " \"Earth's\",\n",
       " 'only',\n",
       " 'satellite.',\n",
       " 'There',\n",
       " 'are',\n",
       " 'several',\n",
       " 'interesting',\n",
       " 'facts',\n",
       " 'about',\n",
       " 'the',\n",
       " 'Moon',\n",
       " 'and',\n",
       " 'how',\n",
       " 'it',\n",
       " 'affects',\n",
       " 'life',\n",
       " 'here',\n",
       " 'on',\n",
       " 'Earth.',\n",
       " ',',\n",
       " 'On',\n",
       " 'average,',\n",
       " 'the',\n",
       " 'Moon',\n",
       " 'moves',\n",
       " '4cm',\n",
       " 'away',\n",
       " 'from',\n",
       " 'the',\n",
       " 'Earth',\n",
       " 'every',\n",
       " 'year.',\n",
       " 'This',\n",
       " 'yearly',\n",
       " 'drift',\n",
       " 'is',\n",
       " 'not',\n",
       " 'significant',\n",
       " 'enough',\n",
       " 'to',\n",
       " 'cause',\n",
       " 'immediate',\n",
       " 'effects',\n",
       " 'on',\n",
       " 'Earth.',\n",
       " 'The',\n",
       " 'highest',\n",
       " 'daylight',\n",
       " 'temperature',\n",
       " 'of',\n",
       " 'the',\n",
       " 'Moon',\n",
       " 'is',\n",
       " '127',\n",
       " 'C.']"
      ]
     },
     "execution_count": 1,
     "metadata": {},
     "output_type": "execute_result"
    }
   ],
   "source": [
    "text = \"Interesting facts about the Moon. The Moon is Earth's only satellite. There are several interesting facts about the Moon and how it affects life here on Earth. \\n , On average, the Moon moves 4cm away from the Earth every year. This yearly drift is not significant enough to cause immediate effects on Earth. The highest daylight temperature of the Moon is 127 C.\"\n",
    "\n",
    "text_oracion = text.split()\n",
    "text_oracion\n"
   ]
  },
  {
   "cell_type": "code",
   "execution_count": 2,
   "metadata": {},
   "outputs": [],
   "source": [
    "text_kw = ['avarage','temperature','distance']"
   ]
  },
  {
   "cell_type": "code",
   "execution_count": 3,
   "metadata": {},
   "outputs": [
    {
     "name": "stdout",
     "output_type": "stream",
     "text": [
      "facts\n",
      "is\n",
      "Earth's\n",
      "satellite.\n",
      "several\n",
      "interesting\n",
      "facts\n",
      "affects\n",
      "moves\n",
      "This\n",
      "is\n",
      "significant\n",
      "cause\n",
      "effects\n",
      "highest\n",
      "is\n"
     ]
    }
   ],
   "source": [
    "for oracion in text_oracion:\n",
    "    for text_kw in text_kw:\n",
    "        if text_kw in oracion:\n",
    "            print(oracion)\n",
    "            break"
   ]
  },
  {
   "cell_type": "code",
   "execution_count": 4,
   "metadata": {},
   "outputs": [
    {
     "name": "stdout",
     "output_type": "stream",
     "text": [
      "Interesting\n",
      "facts\n",
      "is\n",
      "Earth's\n",
      "satellite.\n",
      "several\n",
      "interesting\n",
      "facts\n",
      "affects\n",
      "moves\n",
      "This\n",
      "is\n",
      "significant\n",
      "cause\n",
      "effects\n",
      "highest\n",
      "is\n"
     ]
    }
   ],
   "source": [
    "for oracion in text_oracion:\n",
    "    for text_kw in text_kw:\n",
    "        if text_kw in oracion:\n",
    "            print(oracion.replace('C','Celsius'))\n",
    "            break"
   ]
  },
  {
   "cell_type": "code",
   "execution_count": 5,
   "metadata": {},
   "outputs": [
    {
     "name": "stdout",
     "output_type": "stream",
     "text": [
      "C.\n"
     ]
    }
   ],
   "source": [
    "print(oracion)"
   ]
  }
 ],
 "metadata": {
  "interpreter": {
   "hash": "ee33a262b3ada8c9ed0160da243ed2447cdfa224c81993f3232d3bed3232e4d0"
  },
  "kernelspec": {
   "display_name": "Python 3.10.2 64-bit",
   "language": "python",
   "name": "python3"
  },
  "language_info": {
   "codemirror_mode": {
    "name": "ipython",
    "version": 3
   },
   "file_extension": ".py",
   "mimetype": "text/x-python",
   "name": "python",
   "nbconvert_exporter": "python",
   "pygments_lexer": "ipython3",
   "version": "3.10.2"
  },
  "orig_nbformat": 4
 },
 "nbformat": 4,
 "nbformat_minor": 2
}
