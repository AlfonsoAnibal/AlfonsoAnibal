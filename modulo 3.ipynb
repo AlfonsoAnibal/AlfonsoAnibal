{
 "cells": [
  {
   "cell_type": "markdown",
   "metadata": {},
   "source": [
    "## Kata 3\n",
    "# velocidad de un asteroide\n"
   ]
  },
  {
   "cell_type": "markdown",
   "metadata": {},
   "source": [
    "problema 1:\n",
    "La velocidad del asteroide varía dependiendo de lo cerca que esté del sol, y cualquier velocidad superior a 25 kilómetros por segundo (km/s) merece una advertencia.\n",
    "\n",
    "Un asteroide se acerca, y viaja a una velocidad de 49 km/s."
   ]
  },
  {
   "cell_type": "code",
   "execution_count": 3,
   "metadata": {},
   "outputs": [
    {
     "name": "stdout",
     "output_type": "stream",
     "text": [
      "adviertencia de asteroide\n"
     ]
    }
   ],
   "source": [
    "ast = 49\n",
    "if ast > 25:\n",
    "    print('adviertencia de asteroide')\n",
    "else:\n",
    "    print( 'no hay asteroides en la zona')"
   ]
  },
  {
   "cell_type": "markdown",
   "metadata": {},
   "source": [
    "problema 2: Si un asteroide entra en la atmósfera de la Tierra a una velocidad mayor o igual a 20 km/s, a veces produce un rayo de luz que se puede ver desde la Tierra. Escribe la lógica condicional que usa declaraciones if, else, y elif para alertar a las personas de todo el mundo que deben buscar un asteroide en el cielo. ¡Hay uno que se dirige a la tierra ahora a una velocidad de 19 km/s!\n"
   ]
  },
  {
   "cell_type": "code",
   "execution_count": 4,
   "metadata": {},
   "outputs": [
    {
     "name": "stdout",
     "output_type": "stream",
     "text": [
      "Aún no hay asteroides cerca, te avisaremos si alguno se acerca :)\n"
     ]
    }
   ],
   "source": [
    "ast = 19\n",
    "if ast > 20:\n",
    "    print  (\"Un asteoide pasará por tu zona\")\n",
    "elif ast == 20:\n",
    "    print(\"Un asteroide va a pasar cerca de tu zona, mira su luz en el cielo ahora\")\n",
    "else:\n",
    "    print(\"Aún no hay asteroides cerca, te avisaremos si alguno se acerca :)\")\n"
   ]
  },
  {
   "cell_type": "markdown",
   "metadata": {},
   "source": [
    "problema 3: *Los asteroides de menos de 25 metros en su dimensión más grande probablemente se quemarán a medida que entren en la atmósfera de la Tierra.\n",
    "\n",
    "Si una pieza de un asteroide que es más grande que 25 metros pero más pequeña que 1000 metros golpeara la Tierra, causaría mucho daño.\n",
    "También discutimos en el ejercicio anterior que:\n",
    "\n",
    "La velocidad del asteroide varía en función de lo cerca que esté del sol, y cualquier velocidad superior a 25 kilómetros por segundo (km/s) merece una advertencia.\n",
    "Si un asteroide entra en la atmósfera de la Tierra a una velocidad mayor o igual a 20 km/s, a veces produce un rayo de luz que se puede ver desde la Tierra."
   ]
  },
  {
   "cell_type": "code",
   "execution_count": 5,
   "metadata": {},
   "outputs": [
    {
     "name": "stdout",
     "output_type": "stream",
     "text": [
      "Un asteroide va a pasar cerca de tu zona, mira su luz en el cielo ahora\n"
     ]
    }
   ],
   "source": [
    "l_ast = 25\n",
    "v_ast = 20\n",
    "\n",
    "if l_ast > 25 and v_ast > 25:\n",
    "    print(\"Cuidado, se acerca un asteroide que puede causar mucho daño\")\n",
    "elif v_ast >= 20:\n",
    "    print(\"Un asteroide va a pasar cerca de tu zona, mira su luz en el cielo ahora\")\n",
    "elif l_ast <25:\n",
    "    print(\"Ningún asteroide nos amenaza, puedes estar tranquilo :D\")\n",
    "else:\n",
    "    print(\"Ningún asteroide nos amenaza, puedes estar tranquilo :D\")"
   ]
  }
 ],
 "metadata": {
  "interpreter": {
   "hash": "ee33a262b3ada8c9ed0160da243ed2447cdfa224c81993f3232d3bed3232e4d0"
  },
  "kernelspec": {
   "display_name": "Python 3.10.2 64-bit",
   "language": "python",
   "name": "python3"
  },
  "language_info": {
   "codemirror_mode": {
    "name": "ipython",
    "version": 3
   },
   "file_extension": ".py",
   "mimetype": "text/x-python",
   "name": "python",
   "nbconvert_exporter": "python",
   "pygments_lexer": "ipython3",
   "version": "3.10.2"
  },
  "orig_nbformat": 4
 },
 "nbformat": 4,
 "nbformat_minor": 2
}
